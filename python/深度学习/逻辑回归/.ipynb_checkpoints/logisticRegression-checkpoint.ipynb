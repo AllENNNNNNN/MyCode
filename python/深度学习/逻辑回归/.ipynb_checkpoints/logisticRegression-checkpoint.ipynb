{
 "cells": [
  {
   "cell_type": "code",
   "execution_count": 68,
   "metadata": {},
   "outputs": [
    {
     "name": "stdout",
     "output_type": "stream",
     "text": [
      "The autoreload extension is already loaded. To reload it, use:\n",
      "  %reload_ext autoreload\n"
     ]
    }
   ],
   "source": [
    "import random \n",
    "import numpy as np\n",
    "from deeplearning.classifiers.LogisticRegres import *\n",
    "from deeplearning.data_utils import *\n",
    "import matplotlib.pyplot as plt\n",
    "\n",
    "\n",
    "%load_ext autoreload\n",
    "%autoreload 2"
   ]
  },
  {
   "cell_type": "code",
   "execution_count": 69,
   "metadata": {},
   "outputs": [
    {
     "name": "stdout",
     "output_type": "stream",
     "text": [
      "[[0 1 0 0 0 1 0 1 0 0 1 0 1 0 1 1 1 1 1 1 1 1 0 1 1 0 0 1 1 0 1 1 0 1 1 0 0\n",
      "  0 0 0 1 1 0 1 1 0 1 1 0 0 0 0 0 0 1 1 0 1 0 1 1 1 0 0 0 1 1 0 0 0 0 1 0 1\n",
      "  0 0 1 1 1 1 0 1 0 1 1 1 1 0 1 1 1 0 0 1 1 1 0 1 0 0]]\n"
     ]
    }
   ],
   "source": [
    "# load dataset\n",
    "x_train, y_train = load_LogResDataSet()\n",
    "\n",
    "x_test = x_train\n",
    "y_test = y_train\n",
    "print y_test\n",
    "#print x_test"
   ]
  },
  {
   "cell_type": "code",
   "execution_count": 70,
   "metadata": {},
   "outputs": [
    {
     "name": "stdout",
     "output_type": "stream",
     "text": [
      "[[ 1.56876078]\n",
      " [ 0.46486521]\n",
      " [-0.31199142]]\n",
      "The accuracy of LogisticRegression classifier is 0.8500\n"
     ]
    },
    {
     "data": {
      "image/png": "[encoded data removed]",
      "text/plain": [
       "<matplotlib.figure.Figure at 0x7f9f88e3cad0>"
      ]
     },
     "metadata": {},
     "output_type": "display_data"
    },
    {
     "data": {
      "image/png": "[encoded data removed]",
      "text/plain": [
       "<matplotlib.figure.Figure at 0x7f9f88ee4310>"
      ]
     },
     "metadata": {},
     "output_type": "display_data"
    },
    {
     "data": {
      "image/png": "[encoded data removed]",
      "text/plain": [
       "<matplotlib.figure.Figure at 0x7f9f88e498d0>"
      ]
     },
     "metadata": {},
     "output_type": "display_data"
    }
   ],
   "source": [
    "# use grad descent\n",
    "logregrecls = LogisticRegres()\n",
    "weights_gradDescent = logregrecls.gradDescent(x_train,y_train.transpose())\n",
    "print weights_gradDescent\n",
    "accuracy = logregrecls.predict(weights_gradDescent,x_test,y_test)\n",
    "print \"The accuracy of LogisticRegression classifier is %.4f\" % accuracy\n",
    "#logregrecls.plotBestFit(weights_gradDescent,x_test,y_test.transpose())"
   ]
  },
  {
   "cell_type": "code",
   "execution_count": 20,
   "metadata": {},
   "outputs": [
    {
     "name": "stdout",
     "output_type": "stream",
     "text": [
      "[[ 4.12414349]\n",
      " [ 0.48007329]\n",
      " [-0.6168482 ]]\n",
      "The accuracy of LogisticRegression classifier is 0.9600\n"
     ]
    }
   ],
   "source": [
    "# use grad ascent\n",
    "weights_gradAscent = logregrecls.gradAscent(x_train,y_train.transpose())\n",
    "print weights_gradAscent\n",
    "accuracy = logregrecls.predict(weights_gradAscent,x_test,y_test)\n",
    "print \"The accuracy of LogisticRegression classifier is %.4f\" % accuracy"
   ]
  },
  {
   "cell_type": "code",
   "execution_count": 45,
   "metadata": {},
   "outputs": [
    {
     "name": "stdout",
     "output_type": "stream",
     "text": [
      "[[ 22.94003881]\n",
      " [  0.51876714]\n",
      " [ -3.5471554 ]]\n",
      "The accuracy of LogisticRegression classifier is 0.9200\n"
     ]
    }
   ],
   "source": [
    "#use stocGradDescent\n",
    "weights_stocGradDescent=logregrecls.stocGradDescent(x_train,y_train.transpose(),6)\n",
    "print weights_stocGradDescent\n",
    "accuracy = logregrecls.predict(weights_stocGradDescent,x_test,y_test)\n",
    "print \"The accuracy of LogisticRegression classifier is %.4f\" % accuracy"
   ]
  },
  {
   "cell_type": "code",
   "execution_count": 46,
   "metadata": {},
   "outputs": [
    {
     "data": {
      "image/png": "[encoded data removed]",
      "text/plain": [
       "<matplotlib.figure.Figure at 0x7f9f8b15c450>"
      ]
     },
     "metadata": {},
     "output_type": "display_data"
    }
   ],
   "source": [
    "# plot all samples\n",
    "m,n = np.shape(x_train)\n",
    "for i in range(m):\n",
    "    if int(y_train[0,i]) == 0:\n",
    "        plt.plot(x_train[i,1],x_train[i,2],'or')\n",
    "    else:\n",
    "        plt.plot(x_train[i,1],x_train[i,2],'ob')\n",
    "plt.show()"
   ]
  },
  {
   "cell_type": "code",
   "execution_count": null,
   "metadata": {
    "collapsed": true
   },
   "outputs": [],
   "source": []
  },
  {
   "cell_type": "code",
   "execution_count": null,
   "metadata": {
    "collapsed": true
   },
   "outputs": [],
   "source": []
  },
  {
   "cell_type": "code",
   "execution_count": null,
   "metadata": {
    "collapsed": true
   },
   "outputs": [],
   "source": []
  },
  {
   "cell_type": "code",
   "execution_count": null,
   "metadata": {
    "collapsed": true
   },
   "outputs": [],
   "source": []
  }
 ],
 "metadata": {
  "kernelspec": {
   "display_name": "Python 2",
   "language": "python",
   "name": "python2"
  },
  "language_info": {
   "codemirror_mode": {
    "name": "ipython",
    "version": 2
   },
   "file_extension": ".py",
   "mimetype": "text/x-python",
   "name": "python",
   "nbconvert_exporter": "python",
   "pygments_lexer": "ipython2",
   "version": "2.7.13"
  }
 },
 "nbformat": 4,
 "nbformat_minor": 2
}
